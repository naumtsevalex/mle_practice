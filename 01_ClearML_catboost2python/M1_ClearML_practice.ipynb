{
 "cells": [
  {
   "cell_type": "markdown",
   "metadata": {},
   "source": [
    "# <center> [Ноутбук для решения практики](https://stepik.org/lesson/1500755/step/12?unit=1520869)"
   ]
  },
  {
   "cell_type": "markdown",
   "metadata": {},
   "source": [
    "# 1️⃣ **Описание шаблона для решения задачи.**\n",
    "\n",
    "**Задача**: обучить CatBoost, залогировать основные компоненты\n",
    "Вам необходимо сдать файл с расширением любое_имя.py в котором:\n",
    "\n",
    "**Базовое задание (5 баллов)**\n",
    "\n",
    "* Будет загрузка датасета\n",
    "* Разделение на тренировочную и валидационную выборки\n",
    "* Логирование только валидационной выборки\n",
    "* Обучение бустинга с логированием процесса обучения в ClearML и сохранением гиперпараметров модели\n",
    "* Расчет и сохранение метрики на валидационной выборке (classification report и Accuracy)\n",
    "* Сохранение обученной модели\n",
    "  \n",
    "**Дополнительные задания (2 балла)**\n",
    "\n",
    "* Добавить возможность считывания 2-х параметров при запуске файла на исполнение:\n",
    "  + `-- iterations` - задаёт количество итераций бустинга (по умолчанию 500)\n",
    "  + `-- verbose` - задаёт вывод прогресса обучения CatBoost в консоль (по умолчанию False)\n",
    "  \n",
    "Пример команды: `python любое_имя.py --iterations 200 --verbose 100`\n",
    "\n",
    "* Провести EDA и сохранить графики в ClearML\n",
    "\n",
    "👀 При желании, рекомендуется проделать следующее:\n",
    "- Добавить теги для эксперимента\n",
    "- Добавить еще метрик и отслеживать их по мере обучения (главное в меру 😁)\n",
    "\n",
    "\n",
    "❗️❗️❗️ **P.S.** Данный ноутбук - далеко не единственное верное решение, воспринимайте его как помощник для вашего собственного решения или чтобы побороть страх белого листа :)"
   ]
  },
  {
   "cell_type": "markdown",
   "metadata": {},
   "source": [
    "# 2️⃣ Подключаем необходимые библиотеки"
   ]
  },
  {
   "cell_type": "code",
   "execution_count": null,
   "metadata": {},
   "outputs": [],
   "source": [
    "!pip install clearml catboost -q"
   ]
  },
  {
   "cell_type": "code",
   "execution_count": 9,
   "metadata": {},
   "outputs": [],
   "source": [
    "from dataclasses import dataclass, asdict\n",
    "\n",
    "import pandas as pd\n",
    "import numpy as np\n",
    "import torch\n",
    "\n",
    "from sklearn.model_selection import train_test_split\n",
    "from sklearn.metrics import classification_report, accuracy_score\n",
    "\n",
    "from catboost import CatBoostClassifier\n",
    "from clearml import Logger, Task"
   ]
  },
  {
   "cell_type": "code",
   "execution_count": 11,
   "metadata": {},
   "outputs": [
    {
     "name": "stdout",
     "output_type": "stream",
     "text": [
      "Введите ваш access_key ········\n",
      "Введите ваш secret_key ········\n"
     ]
    }
   ],
   "source": [
    "# Вносим наши ключи в переменные среды\n",
    "import os\n",
    "from getpass import getpass\n",
    "\n",
    "\n",
    "os.environ[\"CLEARML_API_ACCESS_KEY\"] = getpass(prompt=\"Введите ваш access_key\")\n",
    "os.environ[\"CLEARML_API_SECRET_KEY\"] = getpass(prompt=\"Введите ваш secret_key\")"
   ]
  },
  {
   "cell_type": "markdown",
   "metadata": {},
   "source": [
    "<div class=\"alert alert-warning\">\n",
    "\n",
    "Необходимо получить access и secret токены https://app.clear.ml/settings/workspace-configuration\n",
    "\n",
    "Если работаете на локальном компьютере или сервере можете ввести креды в консоли командой `clearml-init`."
   ]
  },
  {
   "cell_type": "code",
   "execution_count": 3,
   "metadata": {},
   "outputs": [],
   "source": [
    "%%capture\n",
    "#  Не показывать свои api-ключи\n",
    "%env CLEARML_WEB_HOST=https://app.clear.ml/\n",
    "%env CLEARML_API_HOST=https://api.clear.ml\n",
    "%env CLEARML_FILES_HOST=https://files.clear.ml"
   ]
  },
  {
   "cell_type": "code",
   "execution_count": 4,
   "metadata": {},
   "outputs": [],
   "source": [
    "@dataclass\n",
    "class CFG:\n",
    "    project_name: str = \"...\"\n",
    "    experiment_name: str = \"...\"\n",
    "\n",
    "    data_path: str = \"../data\"\n",
    "    train_name: str = \"quickstart_train.csv\"\n",
    "    seed: int = 2024\n",
    "\n",
    "\n",
    "cfg = CFG()"
   ]
  },
  {
   "cell_type": "code",
   "execution_count": 5,
   "metadata": {},
   "outputs": [],
   "source": [
    "def seed_everything(seed=2024):\n",
    "    np.random.seed(seed)\n",
    "    torch.manual_seed(seed)\n",
    "    torch.cuda.manual_seed(seed)\n",
    "    torch.backends.cudnn.deterministic = True\n",
    "\n",
    "\n",
    "seed_everything(cfg.seed)"
   ]
  },
  {
   "cell_type": "markdown",
   "metadata": {},
   "source": [
    "# 3️⃣ Начинаем эксперимент"
   ]
  },
  {
   "cell_type": "code",
   "execution_count": 12,
   "metadata": {},
   "outputs": [
    {
     "name": "stdout",
     "output_type": "stream",
     "text": [
      "ClearML Task: created new task id=f41687231a4d41a1a3ed100fb5a8bd3c\n",
      "2024-12-18 14:56:14,458 - clearml.Task - INFO - Storing jupyter notebook directly as code\n",
      "ClearML results page: https://app.clear.ml/projects/d8a11f463b1c42b78313f89b3c0a7a31/experiments/f41687231a4d41a1a3ed100fb5a8bd3c/output/log\n"
     ]
    }
   ],
   "source": [
    "task = Task.init(project_name=cfg.project_name, task_name=cfg.experiment_name)\n",
    "task.add_tags([\"CB_classifier\"])  # Добавьте тэги обучения"
   ]
  },
  {
   "cell_type": "code",
   "execution_count": null,
   "metadata": {},
   "outputs": [],
   "source": [
    "# Добавить конфиг запуска\n",
    "task.connect(...)"
   ]
  },
  {
   "cell_type": "markdown",
   "metadata": {},
   "source": [
    "# 4️⃣ Подгружаем данные"
   ]
  },
  {
   "cell_type": "code",
   "execution_count": 13,
   "metadata": {},
   "outputs": [],
   "source": [
    "url = \"https://github.com/a-milenkin/ml_instruments/raw/refs/heads/main/data/quickstart_train.csv\"\n",
    "rides_info = pd.read_csv(url)"
   ]
  },
  {
   "cell_type": "markdown",
   "metadata": {},
   "source": [
    "## Препроцессинг"
   ]
  },
  {
   "cell_type": "code",
   "execution_count": 14,
   "metadata": {},
   "outputs": [
    {
     "data": {
      "text/html": [
       "<div>\n",
       "<style scoped>\n",
       "    .dataframe tbody tr th:only-of-type {\n",
       "        vertical-align: middle;\n",
       "    }\n",
       "\n",
       "    .dataframe tbody tr th {\n",
       "        vertical-align: top;\n",
       "    }\n",
       "\n",
       "    .dataframe thead th {\n",
       "        text-align: right;\n",
       "    }\n",
       "</style>\n",
       "<table border=\"1\" class=\"dataframe\">\n",
       "  <thead>\n",
       "    <tr style=\"text-align: right;\">\n",
       "      <th></th>\n",
       "      <th>car_id</th>\n",
       "      <th>model</th>\n",
       "      <th>car_type</th>\n",
       "      <th>fuel_type</th>\n",
       "      <th>car_rating</th>\n",
       "      <th>year_to_start</th>\n",
       "      <th>riders</th>\n",
       "      <th>year_to_work</th>\n",
       "      <th>target_reg</th>\n",
       "      <th>target_class</th>\n",
       "      <th>mean_rating</th>\n",
       "      <th>distance_sum</th>\n",
       "      <th>rating_min</th>\n",
       "      <th>speed_max</th>\n",
       "      <th>user_ride_quality_median</th>\n",
       "      <th>deviation_normal_count</th>\n",
       "      <th>user_uniq</th>\n",
       "    </tr>\n",
       "  </thead>\n",
       "  <tbody>\n",
       "    <tr>\n",
       "      <th>0</th>\n",
       "      <td>y13744087j</td>\n",
       "      <td>Kia Rio X-line</td>\n",
       "      <td>economy</td>\n",
       "      <td>petrol</td>\n",
       "      <td>3.78</td>\n",
       "      <td>2015</td>\n",
       "      <td>76163</td>\n",
       "      <td>2021</td>\n",
       "      <td>109.99</td>\n",
       "      <td>another_bug</td>\n",
       "      <td>4.737759</td>\n",
       "      <td>1.214131e+07</td>\n",
       "      <td>0.1</td>\n",
       "      <td>180.855726</td>\n",
       "      <td>0.023174</td>\n",
       "      <td>174</td>\n",
       "      <td>170</td>\n",
       "    </tr>\n",
       "    <tr>\n",
       "      <th>1</th>\n",
       "      <td>O41613818T</td>\n",
       "      <td>VW Polo VI</td>\n",
       "      <td>economy</td>\n",
       "      <td>petrol</td>\n",
       "      <td>3.90</td>\n",
       "      <td>2015</td>\n",
       "      <td>78218</td>\n",
       "      <td>2021</td>\n",
       "      <td>34.48</td>\n",
       "      <td>electro_bug</td>\n",
       "      <td>4.480517</td>\n",
       "      <td>1.803909e+07</td>\n",
       "      <td>0.0</td>\n",
       "      <td>187.862734</td>\n",
       "      <td>12.306011</td>\n",
       "      <td>174</td>\n",
       "      <td>174</td>\n",
       "    </tr>\n",
       "    <tr>\n",
       "      <th>2</th>\n",
       "      <td>d-2109686j</td>\n",
       "      <td>Renault Sandero</td>\n",
       "      <td>standart</td>\n",
       "      <td>petrol</td>\n",
       "      <td>6.30</td>\n",
       "      <td>2012</td>\n",
       "      <td>23340</td>\n",
       "      <td>2017</td>\n",
       "      <td>34.93</td>\n",
       "      <td>gear_stick</td>\n",
       "      <td>4.768391</td>\n",
       "      <td>1.588366e+07</td>\n",
       "      <td>0.1</td>\n",
       "      <td>102.382857</td>\n",
       "      <td>2.513319</td>\n",
       "      <td>174</td>\n",
       "      <td>173</td>\n",
       "    </tr>\n",
       "    <tr>\n",
       "      <th>3</th>\n",
       "      <td>u29695600e</td>\n",
       "      <td>Mercedes-Benz GLC</td>\n",
       "      <td>business</td>\n",
       "      <td>petrol</td>\n",
       "      <td>4.04</td>\n",
       "      <td>2011</td>\n",
       "      <td>1263</td>\n",
       "      <td>2020</td>\n",
       "      <td>32.22</td>\n",
       "      <td>engine_fuel</td>\n",
       "      <td>3.880920</td>\n",
       "      <td>1.651883e+07</td>\n",
       "      <td>0.1</td>\n",
       "      <td>172.793237</td>\n",
       "      <td>-5.029476</td>\n",
       "      <td>174</td>\n",
       "      <td>170</td>\n",
       "    </tr>\n",
       "    <tr>\n",
       "      <th>4</th>\n",
       "      <td>N-8915870N</td>\n",
       "      <td>Renault Sandero</td>\n",
       "      <td>standart</td>\n",
       "      <td>petrol</td>\n",
       "      <td>4.70</td>\n",
       "      <td>2012</td>\n",
       "      <td>26428</td>\n",
       "      <td>2017</td>\n",
       "      <td>27.51</td>\n",
       "      <td>engine_fuel</td>\n",
       "      <td>4.181149</td>\n",
       "      <td>1.398317e+07</td>\n",
       "      <td>0.1</td>\n",
       "      <td>203.462289</td>\n",
       "      <td>-14.260456</td>\n",
       "      <td>174</td>\n",
       "      <td>171</td>\n",
       "    </tr>\n",
       "  </tbody>\n",
       "</table>\n",
       "</div>"
      ],
      "text/plain": [
       "       car_id              model  car_type fuel_type  car_rating  \\\n",
       "0  y13744087j     Kia Rio X-line   economy    petrol        3.78   \n",
       "1  O41613818T         VW Polo VI   economy    petrol        3.90   \n",
       "2  d-2109686j    Renault Sandero  standart    petrol        6.30   \n",
       "3  u29695600e  Mercedes-Benz GLC  business    petrol        4.04   \n",
       "4  N-8915870N    Renault Sandero  standart    petrol        4.70   \n",
       "\n",
       "   year_to_start  riders  year_to_work  target_reg target_class  mean_rating  \\\n",
       "0           2015   76163          2021      109.99  another_bug     4.737759   \n",
       "1           2015   78218          2021       34.48  electro_bug     4.480517   \n",
       "2           2012   23340          2017       34.93   gear_stick     4.768391   \n",
       "3           2011    1263          2020       32.22  engine_fuel     3.880920   \n",
       "4           2012   26428          2017       27.51  engine_fuel     4.181149   \n",
       "\n",
       "   distance_sum  rating_min   speed_max  user_ride_quality_median  \\\n",
       "0  1.214131e+07         0.1  180.855726                  0.023174   \n",
       "1  1.803909e+07         0.0  187.862734                 12.306011   \n",
       "2  1.588366e+07         0.1  102.382857                  2.513319   \n",
       "3  1.651883e+07         0.1  172.793237                 -5.029476   \n",
       "4  1.398317e+07         0.1  203.462289                -14.260456   \n",
       "\n",
       "   deviation_normal_count  user_uniq  \n",
       "0                     174        170  \n",
       "1                     174        174  \n",
       "2                     174        173  \n",
       "3                     174        170  \n",
       "4                     174        171  "
      ]
     },
     "execution_count": 14,
     "metadata": {},
     "output_type": "execute_result"
    }
   ],
   "source": [
    "rides_info.head()"
   ]
  },
  {
   "cell_type": "code",
   "execution_count": 15,
   "metadata": {},
   "outputs": [
    {
     "name": "stdout",
     "output_type": "stream",
     "text": [
      "cat_features ['model', 'car_type', 'fuel_type']\n",
      "num_features 11\n",
      "targets ['target_class', 'target_reg']\n"
     ]
    }
   ],
   "source": [
    "cat_features = [\"model\", \"car_type\", \"fuel_type\"]  # Выделяем категориальные признаки\n",
    "targets = [\"target_class\", \"target_reg\"]\n",
    "features2drop = [\"car_id\"]  # эти фичи будут удалены\n",
    "\n",
    "# Отбираем итоговый набор признаков для использования моделью\n",
    "filtered_features = [\n",
    "    i for i in rides_info.columns if (i not in targets and i not in features2drop)\n",
    "]\n",
    "num_features = [i for i in filtered_features if i not in cat_features]\n",
    "\n",
    "print(\"cat_features\", cat_features)\n",
    "print(\"num_features\", len(num_features))\n",
    "print(\"targets\", targets)\n",
    "\n",
    "for c in cat_features:  # Избавлеямся от NaN'ов\n",
    "    rides_info[c] = rides_info[c].astype(str)"
   ]
  },
  {
   "cell_type": "code",
   "execution_count": 16,
   "metadata": {},
   "outputs": [],
   "source": [
    "train, test = train_test_split(rides_info, test_size=0.2, random_state=cfg.seed)"
   ]
  },
  {
   "cell_type": "code",
   "execution_count": null,
   "metadata": {},
   "outputs": [],
   "source": [
    "# Залогируйте только валидационную выборку!\n",
    "\n",
    "logger.report_table(...)"
   ]
  },
  {
   "cell_type": "code",
   "execution_count": 17,
   "metadata": {},
   "outputs": [],
   "source": [
    "X_train = train[filtered_features]\n",
    "y_train = train[\"target_class\"]\n",
    "\n",
    "X_test = test[filtered_features]\n",
    "y_test = test[\"target_class\"]"
   ]
  },
  {
   "cell_type": "markdown",
   "metadata": {},
   "source": [
    "# 5️⃣ Обучаем модельку"
   ]
  },
  {
   "cell_type": "code",
   "execution_count": 18,
   "metadata": {},
   "outputs": [],
   "source": [
    "cb_params = {\n",
    "    \"depth\": 4,\n",
    "    \"learning_rate\": 0.06,\n",
    "    \"loss_function\": \"MultiClass\",\n",
    "    \"custom_metric\": [\"Recall\"],\n",
    "    # Главная фишка катбуста - работа с категориальными признаками\n",
    "    \"cat_features\": cat_features,\n",
    "    # Регуляризация и ускорение\n",
    "    \"colsample_bylevel\": 0.098,\n",
    "    \"subsample\": 0.95,\n",
    "    \"l2_leaf_reg\": 9,\n",
    "    \"min_data_in_leaf\": 243,\n",
    "    \"max_bin\": 187,\n",
    "    \"random_strength\": 1,\n",
    "    # Параметры ускорения\n",
    "    \"task_type\": \"CPU\",\n",
    "    \"thread_count\": -1,\n",
    "    \"bootstrap_type\": \"Bernoulli\",\n",
    "    # Важное!\n",
    "    \"random_seed\": cfg.seed,\n",
    "    \"early_stopping_rounds\": 50,\n",
    "}"
   ]
  },
  {
   "cell_type": "markdown",
   "metadata": {},
   "source": [
    "залогируйте параметры CatBoost"
   ]
  },
  {
   "cell_type": "markdown",
   "metadata": {},
   "source": [
    "Логирование CatBoost в ClearML - https://clear.ml/docs/latest/docs/guides/frameworks/catboost/"
   ]
  },
  {
   "cell_type": "code",
   "execution_count": 19,
   "metadata": {},
   "outputs": [],
   "source": [
    "model = CatBoostClassifier(**cb_params)"
   ]
  },
  {
   "cell_type": "code",
   "execution_count": 20,
   "metadata": {},
   "outputs": [
    {
     "name": "stdout",
     "output_type": "stream",
     "text": [
      "0:\tlearn: 2.1695430\ttest: 2.1730530\tbest: 2.1730530 (0)\ttotal: 51.3ms\tremaining: 51.2s\n",
      "100:\tlearn: 1.0754529\ttest: 1.0957613\tbest: 1.0957613 (100)\ttotal: 311ms\tremaining: 2.77s\n",
      "200:\tlearn: 0.7156387\ttest: 0.7521605\tbest: 0.7521605 (200)\ttotal: 571ms\tremaining: 2.27s\n",
      "300:\tlearn: 0.5612275\ttest: 0.6139112\tbest: 0.6139112 (300)\ttotal: 853ms\tremaining: 1.98s\n",
      "400:\tlearn: 0.5014757\ttest: 0.5659625\tbest: 0.5659625 (400)\ttotal: 1.13s\tremaining: 1.69s\n",
      "500:\tlearn: 0.4642412\ttest: 0.5380338\tbest: 0.5379895 (496)\ttotal: 1.4s\tremaining: 1.39s\n",
      "600:\tlearn: 0.4417683\ttest: 0.5242665\tbest: 0.5242665 (600)\ttotal: 1.64s\tremaining: 1.09s\n",
      "700:\tlearn: 0.4238230\ttest: 0.5143201\tbest: 0.5142030 (699)\ttotal: 1.9s\tremaining: 812ms\n",
      "800:\tlearn: 0.4123398\ttest: 0.5083812\tbest: 0.5083584 (798)\ttotal: 2.17s\tremaining: 539ms\n",
      "900:\tlearn: 0.3985460\ttest: 0.5032266\tbest: 0.5031747 (899)\ttotal: 2.44s\tremaining: 268ms\n",
      "999:\tlearn: 0.3867535\ttest: 0.4981496\tbest: 0.4980510 (997)\ttotal: 2.73s\tremaining: 0us\n",
      "\n",
      "bestTest = 0.4980509587\n",
      "bestIteration = 997\n",
      "\n",
      "Shrink model to first 998 iterations.\n"
     ]
    },
    {
     "data": {
      "text/plain": [
       "<catboost.core.CatBoostClassifier at 0x7fc8a9f030d0>"
      ]
     },
     "execution_count": 20,
     "metadata": {},
     "output_type": "execute_result"
    }
   ],
   "source": [
    "model.fit(X_train, y_train, eval_set=(X_test, y_test), verbose=100)"
   ]
  },
  {
   "cell_type": "code",
   "execution_count": 21,
   "metadata": {},
   "outputs": [],
   "source": [
    "# сохраняем модель\n",
    "model.save_model(\"cb_model.cbm\")"
   ]
  },
  {
   "cell_type": "markdown",
   "metadata": {},
   "source": [
    "# Метрики на тесте"
   ]
  },
  {
   "cell_type": "code",
   "execution_count": 25,
   "metadata": {},
   "outputs": [],
   "source": [
    "y_pred = model.predict(X_test)"
   ]
  },
  {
   "cell_type": "code",
   "execution_count": 28,
   "metadata": {},
   "outputs": [
    {
     "data": {
      "text/plain": [
       "0.8012820512820513"
      ]
     },
     "execution_count": 28,
     "metadata": {},
     "output_type": "execute_result"
    }
   ],
   "source": [
    "accuracy_score(y_test, y_pred)"
   ]
  },
  {
   "cell_type": "code",
   "execution_count": 26,
   "metadata": {},
   "outputs": [],
   "source": [
    "cls_report = classification_report(\n",
    "    y_test, y_pred, target_names=y_test.unique(), output_dict=True\n",
    ")"
   ]
  },
  {
   "cell_type": "code",
   "execution_count": 27,
   "metadata": {},
   "outputs": [
    {
     "data": {
      "text/html": [
       "<div>\n",
       "<style scoped>\n",
       "    .dataframe tbody tr th:only-of-type {\n",
       "        vertical-align: middle;\n",
       "    }\n",
       "\n",
       "    .dataframe tbody tr th {\n",
       "        vertical-align: top;\n",
       "    }\n",
       "\n",
       "    .dataframe thead th {\n",
       "        text-align: right;\n",
       "    }\n",
       "</style>\n",
       "<table border=\"1\" class=\"dataframe\">\n",
       "  <thead>\n",
       "    <tr style=\"text-align: right;\">\n",
       "      <th></th>\n",
       "      <th>precision</th>\n",
       "      <th>recall</th>\n",
       "      <th>f1-score</th>\n",
       "      <th>support</th>\n",
       "    </tr>\n",
       "  </thead>\n",
       "  <tbody>\n",
       "    <tr>\n",
       "      <th>electro_bug</th>\n",
       "      <td>0.933333</td>\n",
       "      <td>0.933333</td>\n",
       "      <td>0.933333</td>\n",
       "      <td>60.000000</td>\n",
       "    </tr>\n",
       "    <tr>\n",
       "      <th>engine_ignition</th>\n",
       "      <td>1.000000</td>\n",
       "      <td>1.000000</td>\n",
       "      <td>1.000000</td>\n",
       "      <td>55.000000</td>\n",
       "    </tr>\n",
       "    <tr>\n",
       "      <th>another_bug</th>\n",
       "      <td>1.000000</td>\n",
       "      <td>1.000000</td>\n",
       "      <td>1.000000</td>\n",
       "      <td>52.000000</td>\n",
       "    </tr>\n",
       "    <tr>\n",
       "      <th>gear_stick</th>\n",
       "      <td>0.712121</td>\n",
       "      <td>0.903846</td>\n",
       "      <td>0.796610</td>\n",
       "      <td>52.000000</td>\n",
       "    </tr>\n",
       "    <tr>\n",
       "      <th>engine_overheat</th>\n",
       "      <td>0.756098</td>\n",
       "      <td>0.620000</td>\n",
       "      <td>0.681319</td>\n",
       "      <td>50.000000</td>\n",
       "    </tr>\n",
       "    <tr>\n",
       "      <th>engine_fuel</th>\n",
       "      <td>0.568182</td>\n",
       "      <td>0.462963</td>\n",
       "      <td>0.510204</td>\n",
       "      <td>54.000000</td>\n",
       "    </tr>\n",
       "    <tr>\n",
       "      <th>break_bug</th>\n",
       "      <td>0.485294</td>\n",
       "      <td>0.611111</td>\n",
       "      <td>0.540984</td>\n",
       "      <td>54.000000</td>\n",
       "    </tr>\n",
       "    <tr>\n",
       "      <th>engine_check</th>\n",
       "      <td>0.981132</td>\n",
       "      <td>0.912281</td>\n",
       "      <td>0.945455</td>\n",
       "      <td>57.000000</td>\n",
       "    </tr>\n",
       "    <tr>\n",
       "      <th>wheel_shake</th>\n",
       "      <td>0.827586</td>\n",
       "      <td>0.705882</td>\n",
       "      <td>0.761905</td>\n",
       "      <td>34.000000</td>\n",
       "    </tr>\n",
       "    <tr>\n",
       "      <th>accuracy</th>\n",
       "      <td>0.801282</td>\n",
       "      <td>0.801282</td>\n",
       "      <td>0.801282</td>\n",
       "      <td>0.801282</td>\n",
       "    </tr>\n",
       "    <tr>\n",
       "      <th>macro avg</th>\n",
       "      <td>0.807083</td>\n",
       "      <td>0.794380</td>\n",
       "      <td>0.796645</td>\n",
       "      <td>468.000000</td>\n",
       "    </tr>\n",
       "    <tr>\n",
       "      <th>weighted avg</th>\n",
       "      <td>0.809370</td>\n",
       "      <td>0.801282</td>\n",
       "      <td>0.801388</td>\n",
       "      <td>468.000000</td>\n",
       "    </tr>\n",
       "  </tbody>\n",
       "</table>\n",
       "</div>"
      ],
      "text/plain": [
       "                 precision    recall  f1-score     support\n",
       "electro_bug       0.933333  0.933333  0.933333   60.000000\n",
       "engine_ignition   1.000000  1.000000  1.000000   55.000000\n",
       "another_bug       1.000000  1.000000  1.000000   52.000000\n",
       "gear_stick        0.712121  0.903846  0.796610   52.000000\n",
       "engine_overheat   0.756098  0.620000  0.681319   50.000000\n",
       "engine_fuel       0.568182  0.462963  0.510204   54.000000\n",
       "break_bug         0.485294  0.611111  0.540984   54.000000\n",
       "engine_check      0.981132  0.912281  0.945455   57.000000\n",
       "wheel_shake       0.827586  0.705882  0.761905   34.000000\n",
       "accuracy          0.801282  0.801282  0.801282    0.801282\n",
       "macro avg         0.807083  0.794380  0.796645  468.000000\n",
       "weighted avg      0.809370  0.801282  0.801388  468.000000"
      ]
     },
     "execution_count": 27,
     "metadata": {},
     "output_type": "execute_result"
    }
   ],
   "source": [
    "cls_report = pd.DataFrame(cls_report).T\n",
    "cls_report"
   ]
  },
  {
   "cell_type": "markdown",
   "metadata": {},
   "source": [
    "# 6️⃣ Сохраняем результаты в ClearML "
   ]
  },
  {
   "cell_type": "code",
   "execution_count": null,
   "metadata": {},
   "outputs": [],
   "source": [
    "# Логируем метрики\n",
    "\n",
    "logger."
   ]
  },
  {
   "cell_type": "code",
   "execution_count": 31,
   "metadata": {},
   "outputs": [],
   "source": [
    "# Не забываем завершить таск\n",
    "task.close()"
   ]
  },
  {
   "cell_type": "markdown",
   "metadata": {},
   "source": [
    "# 7️⃣ Запись файла для сдачи на Stepik"
   ]
  },
  {
   "cell_type": "code",
   "execution_count": null,
   "metadata": {},
   "outputs": [],
   "source": [
    "%%writefile example.py\n",
    "#!/usr/bin/env python\n",
    "from catboost import CatBoostClassifier\n",
    "# your code here\n",
    "\n",
    "def main():\n",
    "    pass # your code here\n",
    "\n",
    "if __name__ == \"__main__\":\n",
    "    # your code here\n",
    "    main()"
   ]
  },
  {
   "cell_type": "markdown",
   "metadata": {},
   "source": [
    "**Проверка работоспособности**"
   ]
  },
  {
   "cell_type": "code",
   "execution_count": null,
   "metadata": {},
   "outputs": [],
   "source": [
    "!python example.py"
   ]
  },
  {
   "cell_type": "code",
   "execution_count": null,
   "metadata": {},
   "outputs": [],
   "source": [
    "# Для бонусного задания\n",
    "!python example.py --iterations 200 --verbose 100"
   ]
  },
  {
   "cell_type": "markdown",
   "metadata": {},
   "source": [
    "## 🎱 Поздравляем, вы стали на шаг ближе к продакшен-разработке ML-проектов!\n",
    "Теперь сможете писать код для запуска экспериментов на удаленном сервере, даже при отсутствии установленного на нём Jupyter-lab."
   ]
  }
 ],
 "metadata": {
  "kernelspec": {
   "display_name": "cv",
   "language": "python",
   "name": "python3"
  },
  "language_info": {
   "codemirror_mode": {
    "name": "ipython",
    "version": 3
   },
   "file_extension": ".py",
   "mimetype": "text/x-python",
   "name": "python",
   "nbconvert_exporter": "python",
   "pygments_lexer": "ipython3",
   "version": "3.10.12"
  }
 },
 "nbformat": 4,
 "nbformat_minor": 4
}
